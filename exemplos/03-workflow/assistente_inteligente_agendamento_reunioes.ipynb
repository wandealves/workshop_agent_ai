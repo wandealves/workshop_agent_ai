{
 "cells": [
  {
   "cell_type": "code",
   "execution_count": null,
   "metadata": {},
   "outputs": [],
   "source": [
    "#!pip install langgraph==0.2.59 langchain-core==0.3.25 langchain-community==0.3.12 groq==0.13.0"
   ]
  },
  {
   "cell_type": "code",
   "execution_count": 1,
   "metadata": {},
   "outputs": [],
   "source": [
    "import os\n",
    "import json\n",
    "import datetime\n",
    "from typing import TypedDict, List, Dict\n",
    "from langgraph.graph import StateGraph, START, END\n",
    "from langchain_core.prompts import ChatPromptTemplate\n",
    "from groq import Groq\n",
    "from dotenv import load_dotenv\n",
    "from IPython.display import display, Image\n",
    "from langchain_core.runnables.graph import MermaidDrawMethod\n",
    "\n",
    "# Carregar variáveis de ambiente\n",
    "load_dotenv()\n",
    "\n",
    "# Inicializar o modelo de linguagem\n",
    "client = Groq(api_key=os.getenv('GROQ_API_KEY'))\n",
    "model = \"llama3-8b-8192\""
   ]
  },
  {
   "cell_type": "code",
   "execution_count": 2,
   "metadata": {},
   "outputs": [],
   "source": [
    "# Estruturas de dados para participantes e reuniões\n",
    "class Participant(TypedDict):\n",
    "    name: str\n",
    "    email: str\n",
    "    calendar: List[Dict[str, any]]  # Lista de eventos no calendário\n",
    "\n",
    "class MeetingRequest(TypedDict):\n",
    "    requester: str\n",
    "    attendees: List[str]\n",
    "    preferred_times: List[str]\n",
    "    duration: int  # em minutos\n",
    "    subject: str\n",
    "    constraints: Dict[str, any]\n",
    "\n",
    "class ScheduledMeeting(TypedDict):\n",
    "    subject: str\n",
    "    time: datetime.datetime\n",
    "    duration: int\n",
    "    attendees: List[str]\n",
    "    organizer: str"
   ]
  },
  {
   "cell_type": "code",
   "execution_count": 3,
   "metadata": {},
   "outputs": [],
   "source": [
    "# Definição do estado\n",
    "class State(TypedDict):\n",
    "    meeting_request: MeetingRequest\n",
    "    participants: Dict[str, Participant]\n",
    "    scheduled_meeting: ScheduledMeeting\n",
    "    errors: List[str]"
   ]
  },
  {
   "cell_type": "code",
   "execution_count": 14,
   "metadata": {},
   "outputs": [],
   "source": [
    "def parse_meeting_request(state: State) -> State:\n",
    "    \"\"\"\n",
    "    Analisa a solicitação de reunião em linguagem natural e extrai informações relevantes.\n",
    "    \"\"\"\n",
    "    meeting_request_text = state['meeting_request']['raw_text']\n",
    "    \n",
    "    prompt = f\"\"\"\n",
    "Você é um assistente que extrai informações de solicitações de reuniões.\n",
    "A partir do texto abaixo, extraia:\n",
    "- Solicitante (nome)\n",
    "- Lista de participantes (nomes)\n",
    "- Horários preferenciais (lista de datas e horários)\n",
    "- Duração da reunião em minutos\n",
    "- Assunto da reunião\n",
    "- Restrições adicionais ou preferências\n",
    "\n",
    "Retorne as informações em formato JSON, sem texto adicional.\n",
    "\n",
    "Exemplo de formato:\n",
    "{{\n",
    "  \"requester\": \"Nome do Solicitante\",\n",
    "  \"attendees\": [\"Participante 1\", \"Participante 2\"],\n",
    "  \"preferred_times\": [\"2023-10-01 14:00\", \"2023-10-02 10:00\"],\n",
    "  \"duration\": 60,\n",
    "  \"subject\": \"Assunto da Reunião\",\n",
    "  \"constraints\": {{}}\n",
    "}}\n",
    "\n",
    "Texto da solicitação:\n",
    "{meeting_request_text}\n",
    "        \"\"\"\n",
    "    \n",
    "\n",
    "    chat_completion = client.chat.completions.create(\n",
    "        model=model,\n",
    "        messages=[\n",
    "            {\"role\": \"system\", \"content\": prompt},\n",
    "        ]\n",
    "    )\n",
    "    response = chat_completion.choices[0].message\n",
    "    try:\n",
    "        meeting_info = json.loads(response.content)\n",
    "        state['meeting_request'].update(meeting_info)\n",
    "    except json.JSONDecodeError as e:\n",
    "        state['errors'].append(f\"Erro ao analisar a solicitação: {e}\")\n",
    "    return state"
   ]
  },
  {
   "cell_type": "code",
   "execution_count": 15,
   "metadata": {},
   "outputs": [],
   "source": [
    "def check_availability(state: State) -> State:\n",
    "    \"\"\"\n",
    "    Verifica a disponibilidade dos participantes nos horários preferenciais.\n",
    "    \"\"\"\n",
    "    available_times = []\n",
    "    for time_str in state['meeting_request']['preferred_times']:\n",
    "        time_obj = datetime.datetime.strptime(time_str, \"%Y-%m-%d %H:%M\")\n",
    "        duration = datetime.timedelta(minutes=state['meeting_request']['duration'])\n",
    "        end_time = time_obj + duration\n",
    "        \n",
    "        # Verificar disponibilidade de todos os participantes\n",
    "        all_available = True\n",
    "        for attendee in state['meeting_request']['attendees']:\n",
    "            calendar = state['participants'][attendee]['calendar']\n",
    "            for event in calendar:\n",
    "                event_start = event['start_time']\n",
    "                event_end = event['end_time']\n",
    "                # Se houver conflito, marcar como indisponível\n",
    "                if (time_obj < event_end) and (end_time > event_start):\n",
    "                    all_available = False\n",
    "                    break\n",
    "            if not all_available:\n",
    "                break\n",
    "        if all_available:\n",
    "            available_times.append(time_obj)\n",
    "    \n",
    "    if available_times:\n",
    "        # Agendar no primeiro horário disponível\n",
    "        state['scheduled_meeting'] = {\n",
    "            \"subject\": state['meeting_request']['subject'],\n",
    "            \"time\": available_times[0],\n",
    "            \"duration\": state['meeting_request']['duration'],\n",
    "            \"attendees\": state['meeting_request']['attendees'],\n",
    "            \"organizer\": state['meeting_request']['requester']\n",
    "        }\n",
    "    else:\n",
    "        state['errors'].append(\"Não foi possível encontrar um horário disponível.\")\n",
    "    return state"
   ]
  },
  {
   "cell_type": "code",
   "execution_count": 16,
   "metadata": {},
   "outputs": [],
   "source": [
    "def send_invitations(state: State) -> State:\n",
    "    \"\"\"\n",
    "    Envia convites para os participantes.\n",
    "    \"\"\"\n",
    "    if 'scheduled_meeting' not in state:\n",
    "        state['errors'].append(\"Nenhuma reunião agendada para enviar convites.\")\n",
    "        return state\n",
    "    \n",
    "    meeting = state['scheduled_meeting']\n",
    "    for attendee in meeting['attendees']:\n",
    "        email = state['participants'][attendee]['email']\n",
    "        # Aqui você implementaria o envio de email real\n",
    "        print(f\"Enviando convite para {attendee} ({email}) para a reunião '{meeting['subject']}' em {meeting['time']}.\")\n",
    "    return state"
   ]
  },
  {
   "cell_type": "code",
   "execution_count": 17,
   "metadata": {},
   "outputs": [],
   "source": [
    "# Inicializar o grafo de estado\n",
    "workflow = StateGraph(State)\n",
    "\n",
    "# Adicionar nós\n",
    "workflow.add_node(\"parse_meeting_request\", parse_meeting_request)\n",
    "workflow.add_node(\"check_availability\", check_availability)\n",
    "workflow.add_node(\"send_invitations\", send_invitations)\n",
    "\n",
    "# Definir as arestas\n",
    "workflow.add_edge(START, \"parse_meeting_request\")\n",
    "workflow.add_edge(\"parse_meeting_request\", \"check_availability\")\n",
    "workflow.add_edge(\"check_availability\", \"send_invitations\")\n",
    "workflow.add_edge(\"send_invitations\", END)\n",
    "\n",
    "# Definir o ponto de entrada\n",
    "workflow.set_entry_point(\"parse_meeting_request\")\n",
    "\n",
    "# Compilar o grafo\n",
    "app = workflow.compile()"
   ]
  },
  {
   "cell_type": "code",
   "execution_count": 18,
   "metadata": {},
   "outputs": [
    {
     "data": {
      "image/png": "[encoded data removed]",
      "text/plain": [
       "<IPython.core.display.Image object>"
      ]
     },
     "metadata": {},
     "output_type": "display_data"
    }
   ],
   "source": [
    "display(\n",
    "    Image(\n",
    "        app.get_graph().draw_mermaid_png(\n",
    "            draw_method=MermaidDrawMethod.API,\n",
    "        )\n",
    "    )\n",
    ")"
   ]
  },
  {
   "cell_type": "code",
   "execution_count": 19,
   "metadata": {},
   "outputs": [],
   "source": [
    "def schedule_meeting(meeting_request_text: str, participants: Dict[str, Participant]):\n",
    "    \"\"\"\n",
    "    Processa a solicitação de reunião e agenda se possível.\n",
    "    \n",
    "    Args:\n",
    "        meeting_request_text (str): Texto da solicitação em linguagem natural.\n",
    "        participants (Dict[str, Participant]): Informações dos participantes.\n",
    "    \n",
    "    Returns:\n",
    "        State: Estado final após o processamento.\n",
    "    \"\"\"\n",
    "    initial_state = State(\n",
    "        meeting_request={\"raw_text\": meeting_request_text},\n",
    "        participants=participants,\n",
    "        scheduled_meeting={},\n",
    "        errors=[]\n",
    "    )\n",
    "    final_state = app.invoke(initial_state)\n",
    "    return final_state"
   ]
  },
  {
   "cell_type": "code",
   "execution_count": 20,
   "metadata": {},
   "outputs": [],
   "source": [
    "# Dados de exemplo dos participantes\n",
    "participants = {\n",
    "    \"Alice\": {\n",
    "        \"name\": \"Alice\",\n",
    "        \"email\": \"alice@example.com\",\n",
    "        \"calendar\": [\n",
    "            {\"start_time\": datetime.datetime(2023, 10, 1, 9, 0), \"end_time\": datetime.datetime(2023, 10, 1, 10, 0)},\n",
    "            {\"start_time\": datetime.datetime(2023, 10, 1, 14, 0), \"end_time\": datetime.datetime(2023, 10, 1, 15, 0)},\n",
    "        ]\n",
    "    },\n",
    "    \"Bob\": {\n",
    "        \"name\": \"Bob\",\n",
    "        \"email\": \"bob@example.com\",\n",
    "        \"calendar\": [\n",
    "            {\"start_time\": datetime.datetime(2023, 10, 1, 11, 0), \"end_time\": datetime.datetime(2023, 10, 1, 12, 0)},\n",
    "            {\"start_time\": datetime.datetime(2023, 10, 1, 16, 0), \"end_time\": datetime.datetime(2023, 10, 1, 17, 0)},\n",
    "        ]\n",
    "    },\n",
    "    \"Carlos\": {\n",
    "        \"name\": \"Carlos\",\n",
    "        \"email\": \"carlos@example.com\",\n",
    "        \"calendar\": [\n",
    "            {\"start_time\": datetime.datetime(2023, 10, 1, 13, 0), \"end_time\": datetime.datetime(2023, 10, 1, 14, 0)},\n",
    "            {\"start_time\": datetime.datetime(2023, 10, 1, 15, 0), \"end_time\": datetime.datetime(2023, 10, 1, 16, 0)},\n",
    "        ]\n",
    "    },\n",
    "}"
   ]
  },
  {
   "cell_type": "code",
   "execution_count": 21,
   "metadata": {},
   "outputs": [],
   "source": [
    "# Solicitação de reunião em linguagem natural\n",
    "meeting_request_text = \"\"\"\n",
    "Olá,\n",
    "\n",
    "Gostaria de agendar uma reunião sobre o projeto X. Seria ideal se pudéssemos nos reunir amanhã às 10h ou às 15h. A reunião deve durar cerca de 60 minutos.\n",
    "\n",
    "Participantes: Alice, Bob e Carlos.\n",
    "\n",
    "Atenciosamente,\n",
    "Maria\n",
    "\"\"\""
   ]
  },
  {
   "cell_type": "code",
   "execution_count": 22,
   "metadata": {},
   "outputs": [
    {
     "name": "stdout",
     "output_type": "stream",
     "text": [
      "Enviando convite para Alice (alice@example.com) para a reunião 'Projeto X' em 2023-10-01 10:00:00.\n",
      "Enviando convite para Bob (bob@example.com) para a reunião 'Projeto X' em 2023-10-01 10:00:00.\n",
      "Enviando convite para Carlos (carlos@example.com) para a reunião 'Projeto X' em 2023-10-01 10:00:00.\n"
     ]
    }
   ],
   "source": [
    "# Executar o agendamento\n",
    "final_state = schedule_meeting(meeting_request_text, participants)"
   ]
  },
  {
   "cell_type": "code",
   "execution_count": 23,
   "metadata": {},
   "outputs": [
    {
     "name": "stdout",
     "output_type": "stream",
     "text": [
      "Reunião agendada com sucesso!\n",
      "Assunto: Projeto X\n",
      "Horário: 2023-10-01 10:00:00\n",
      "Participantes: Alice, Bob, Carlos\n"
     ]
    }
   ],
   "source": [
    "\n",
    "# Verificar se houve erros\n",
    "if final_state['errors']:\n",
    "    print(\"Erros encontrados:\")\n",
    "    for error in final_state['errors']:\n",
    "        print(f\"- {error}\")\n",
    "else:\n",
    "    meeting = final_state['scheduled_meeting']\n",
    "    print(f\"Reunião agendada com sucesso!\\nAssunto: {meeting['subject']}\\nHorário: {meeting['time']}\\nParticipantes: {', '.join(meeting['attendees'])}\")"
   ]
  }
 ],
 "metadata": {
  "kernelspec": {
   "display_name": "Python 3",
   "language": "python",
   "name": "python3"
  },
  "language_info": {
   "codemirror_mode": {
    "name": "ipython",
    "version": 3
   },
   "file_extension": ".py",
   "mimetype": "text/x-python",
   "name": "python",
   "nbconvert_exporter": "python",
   "pygments_lexer": "ipython3",
   "version": "3.12.8"
  }
 },
 "nbformat": 4,
 "nbformat_minor": 2
}
